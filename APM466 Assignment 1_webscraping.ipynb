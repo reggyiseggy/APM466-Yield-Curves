{
 "cells": [
  {
   "cell_type": "code",
   "execution_count": 1,
   "metadata": {},
   "outputs": [],
   "source": [
    "from scrapy import Spider\n",
    "from scrapy.selector import Selector\n",
    "from scrapy.item import Item, Field\n",
    "import pandas as pd\n",
    "import calendar\n",
    "import requests\n",
    "import numpy as np\n",
    "from datetime import datetime\n",
    "from urllib.request import urlopen\n",
    "from bs4 import BeautifulSoup\n",
    "from threading import Timer\n",
    "import time\n",
    "import schedule"
   ]
  },
  {
   "cell_type": "code",
   "execution_count": 2,
   "metadata": {},
   "outputs": [],
   "source": [
    "def extract_df(link):\n",
    "    url = \"https://markets.businessinsider.com/bonds\"\n",
    "    html = urlopen(url)\n",
    "    soup = BeautifulSoup(html, 'lxml')\n",
    "    response = requests.get(link)      #requests.get()\n",
    "    doc = BeautifulSoup(response.text, 'html.parser')  #Now 'doc' contains entire html in parsed format\n",
    "    \n",
    "    tr_parent1 = doc.find_all('tbody',{'class':'table__tbody'}) \n",
    "    headers=['isin','name', 'currency', 'coupon', 'yield', \"moody's rating\", 'maturity date', 'bid', 'ask']\n",
    "    data_dict = {}\n",
    "    for i in range(len(headers)):\n",
    "        data_dict[headers[i]] = []\n",
    "        \n",
    "    i = 0\n",
    "    num_bonds = int(len(tr_parent1[0].find_all('td')))/8\n",
    "    storage = []\n",
    "    while True and i/8 != num_bonds:\n",
    "        if i%8 == 0:\n",
    "            isin_data = tr_parent1[0].find_all('td')\n",
    "            isin = str(isin_data[i]).split('-')[-1].split('\"')[0]\n",
    "            storage.append(isin)\n",
    "        data = tr_parent1[0].find_all('td',{'class':\"table__td\"})\n",
    "        extracted_data = data[i].text.strip()   \n",
    "        storage.append(extracted_data)\n",
    "        i+=1\n",
    "\n",
    "    for i in range(len(storage)):\n",
    "        data_dict[headers[i%9]].append(storage[i])\n",
    "        \n",
    "    df = pd.DataFrame(data_dict)\n",
    "    df[['bid','ask']] = df[['bid','ask']].replace('-','NaN').astype(float)\n",
    "    df = df.drop(columns=['name','currency',\"moody's rating\"])\n",
    "    df['close'] = (df['bid']+df['ask'])/2\n",
    "\n",
    "    storage = []\n",
    "    for i in range(df.shape[0]):\n",
    "        yield_value = df['yield'].values[i].split('%')[0][:3]\n",
    "        coupon = df['coupon'].values[i].split('%')[0][:3]\n",
    "        df['maturity date'] = pd.to_datetime(df['maturity date'])\n",
    "        mth = calendar.month_name[df.iloc[i]['maturity date'].month][:3]\n",
    "        day = df.iloc[i]['maturity date'].day\n",
    "        yr = df.iloc[i]['maturity date'].year\n",
    "        new_col = 'CAN' + ' ' + str(coupon) + ' '+ str(mth) + ' ' + str(day) + ' ' + str(yr)\n",
    "        storage.append(new_col)\n",
    "    df = df.drop(columns=['coupon', 'maturity date', 'bid', 'ask'])\n",
    "    df['name'] = np.array(storage)\n",
    "    df = df.set_index('name')\n",
    "    return df\n",
    "\n",
    "\n",
    "def get_daily_df(home_urls):    \n",
    "    for i in range(3):\n",
    "        globals()['df%s' %i] = extract_df(home_urls[i])\n",
    "\n",
    "    today = datetime.now()\n",
    "    name_of_file = str(today.strftime(\"%d\"))+str(today.strftime(\"%b\"))\n",
    "    dfs = [df0, df1, df2]\n",
    "    pd.concat(dfs).to_json(f'APM466/{name_of_file}.json')\n"
   ]
  },
  {
   "cell_type": "code",
   "execution_count": 3,
   "metadata": {},
   "outputs": [],
   "source": [
    "home_urls = ['https://markets.businessinsider.com/bonds/finder?borrower=71&maturity=shortterm&yield=&bondtype=2%2c3%2c4%2c16&coupon=&currency=184&rating=&country=19',\n",
    "             'https://markets.businessinsider.com/bonds/finder?p=2&borrower=71&maturity=shortterm&bondtype=2%2c3%2c4%2c16&currency=184&country=19',\n",
    "             'https://markets.businessinsider.com/bonds/finder?borrower=71&maturity=midterm&yield=&bondtype=2%2c3%2c4%2c16&coupon=&currency=184&rating=&country=19']\n"
   ]
  },
  {
   "cell_type": "code",
   "execution_count": 4,
   "metadata": {},
   "outputs": [],
   "source": [
    "get_daily_df(home_urls)"
   ]
  }
 ],
 "metadata": {
  "kernelspec": {
   "display_name": "Python 3 (ipykernel)",
   "language": "python",
   "name": "python3"
  },
  "language_info": {
   "codemirror_mode": {
    "name": "ipython",
    "version": 3
   },
   "file_extension": ".py",
   "mimetype": "text/x-python",
   "name": "python",
   "nbconvert_exporter": "python",
   "pygments_lexer": "ipython3",
   "version": "3.9.7"
  }
 },
 "nbformat": 4,
 "nbformat_minor": 4
}
